{
 "cells": [
  {
   "cell_type": "code",
   "execution_count": 1,
   "metadata": {},
   "outputs": [],
   "source": [
    "import pandas as pd #need to run everytime"
   ]
  },
  {
   "cell_type": "code",
   "execution_count": 2,
   "metadata": {},
   "outputs": [],
   "source": [
    "import numpy as np #import numpy"
   ]
  },
  {
   "cell_type": "code",
   "execution_count": 4,
   "metadata": {},
   "outputs": [
    {
     "name": "stdout",
     "output_type": "stream",
     "text": [
      "Original Array:  [ 1 24  3  4  5  6]\n",
      "Copy Array:  [1 2 3 4 5 6]\n"
     ]
    }
   ],
   "source": [
    "#copy and view methods of numpy\n",
    "a1 = np.array([1,2,3,4,5,6])\n",
    "x = a1.copy() #copy one time only\n",
    "\n",
    "a1[1] = 24 #appears in original only\n",
    "\n",
    "print(\"Original Array: \",a1)\n",
    "print(\"Copy Array: \",x)"
   ]
  },
  {
   "cell_type": "code",
   "execution_count": 7,
   "metadata": {},
   "outputs": [
    {
     "name": "stdout",
     "output_type": "stream",
     "text": [
      "Original Array:  [32  2  3  4  5  6]\n",
      "Copy Array:  [32  2  3  4  5  6]\n"
     ]
    }
   ],
   "source": [
    "#copy and view methods of numpy\n",
    "a2 = np.array([1,2,3,4,5,6])\n",
    "x = a2.view() #view array\n",
    "\n",
    "a2[0] = 32 #appears in both\n",
    "\n",
    "print(\"Original Array: \",a2)\n",
    "print(\"Copy Array: \",x)"
   ]
  },
  {
   "cell_type": "code",
   "execution_count": 8,
   "metadata": {},
   "outputs": [
    {
     "name": "stdout",
     "output_type": "stream",
     "text": [
      "[1 2 3 4 5 6 7 8 9]\n"
     ]
    }
   ],
   "source": [
    "#join array\n",
    "a2 = np.array([1,2,3,4,5,6,7])\n",
    "a3 = np.array([8,9])\n",
    "\n",
    "z = np.concatenate((a2,a3)) #combine 2 array\n",
    "print(z)"
   ]
  },
  {
   "cell_type": "code",
   "execution_count": 10,
   "metadata": {},
   "outputs": [
    {
     "name": "stdout",
     "output_type": "stream",
     "text": [
      "4\n"
     ]
    }
   ],
   "source": [
    "#random number array\n",
    "from numpy import random\n",
    "\n",
    "arr = random.randint(20) #one value only, ending value, 20 = 0 to 20 range\n",
    "\n",
    "print(arr) #everytime run, it will give different numbers"
   ]
  },
  {
   "cell_type": "code",
   "execution_count": 11,
   "metadata": {},
   "outputs": [
    {
     "name": "stdout",
     "output_type": "stream",
     "text": [
      "[[ 2 82 84 17 18]\n",
      " [86 13 96 25 23]\n",
      " [93 23  2 72  9]]\n"
     ]
    }
   ],
   "source": [
    "y = random.randint(100,size=(3,5)) #0 to 100 range in (row,col)\n",
    "print(y)"
   ]
  },
  {
   "cell_type": "code",
   "execution_count": null,
   "metadata": {},
   "outputs": [],
   "source": []
  }
 ],
 "metadata": {
  "kernelspec": {
   "display_name": "Python 3",
   "language": "python",
   "name": "python3"
  },
  "language_info": {
   "codemirror_mode": {
    "name": "ipython",
    "version": 3
   },
   "file_extension": ".py",
   "mimetype": "text/x-python",
   "name": "python",
   "nbconvert_exporter": "python",
   "pygments_lexer": "ipython3",
   "version": "3.11.2"
  },
  "orig_nbformat": 4
 },
 "nbformat": 4,
 "nbformat_minor": 2
}
