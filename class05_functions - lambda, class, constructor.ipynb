{
 "cells": [
  {
   "attachments": {},
   "cell_type": "markdown",
   "metadata": {},
   "source": [
    "Functions"
   ]
  },
  {
   "cell_type": "code",
   "execution_count": 1,
   "metadata": {},
   "outputs": [],
   "source": [
    "#create a function\n",
    "def printHello():\n",
    "  print(\"Hello\")"
   ]
  },
  {
   "cell_type": "code",
   "execution_count": 2,
   "metadata": {},
   "outputs": [
    {
     "name": "stdout",
     "output_type": "stream",
     "text": [
      "Hello\n"
     ]
    }
   ],
   "source": [
    "#calling a function\n",
    "printHello()"
   ]
  },
  {
   "cell_type": "code",
   "execution_count": 1,
   "metadata": {},
   "outputs": [
    {
     "name": "stdout",
     "output_type": "stream",
     "text": [
      "Ans:  30\n"
     ]
    }
   ],
   "source": [
    "#function with arguments\n",
    "#static\n",
    "def addition(a,b): #need to pass the a and b\n",
    "  c = a+b\n",
    "  print(\"Ans: \",c)\n",
    "\n",
    "addition(10,20)"
   ]
  },
  {
   "cell_type": "code",
   "execution_count": 3,
   "metadata": {},
   "outputs": [
    {
     "name": "stdout",
     "output_type": "stream",
     "text": [
      "Ans:  30\n"
     ]
    }
   ],
   "source": [
    "#function with arguments\n",
    "#dynamics\n",
    "def addition(a,b):\n",
    "  c = a+b\n",
    "  print(\"Ans: \",c)\n",
    "  \n",
    "v1 = int(input(\"Value 1: \"))\n",
    "v2 = int(input(\"Value 2: \"))\n",
    "addition(v1,v2)\n"
   ]
  },
  {
   "cell_type": "code",
   "execution_count": 4,
   "metadata": {},
   "outputs": [
    {
     "data": {
      "text/plain": [
       "30"
      ]
     },
     "execution_count": 4,
     "metadata": {},
     "output_type": "execute_result"
    }
   ],
   "source": [
    "#function with return type\n",
    "def addition2(a,b):\n",
    "  c = a+b\n",
    "  return c #exit a function and return the value, must be used in print()\n",
    "\n",
    "v1 = int(input(\"Value 1: \"))\n",
    "v2 = int(input(\"Value 2: \"))\n",
    "addition2(v1,v2)"
   ]
  },
  {
   "attachments": {},
   "cell_type": "markdown",
   "metadata": {},
   "source": [
    "ASSIGNMENT:\n",
    "create a calculator by using functions\n",
    "functions like add, sub, mul, div\n",
    "function should called when user say addition and use if conditions"
   ]
  },
  {
   "attachments": {},
   "cell_type": "markdown",
   "metadata": {},
   "source": [
    "Lambda Function\n",
    "one line function\n",
    "syntax: lambda arg : expression\n",
    "arg can be teach, expression cannot be teach"
   ]
  },
  {
   "cell_type": "code",
   "execution_count": 5,
   "metadata": {},
   "outputs": [],
   "source": [
    "#lambda function\n",
    "x = lambda a : a+10"
   ]
  },
  {
   "cell_type": "code",
   "execution_count": 6,
   "metadata": {},
   "outputs": [
    {
     "name": "stdout",
     "output_type": "stream",
     "text": [
      "30\n"
     ]
    }
   ],
   "source": [
    "print(x(20))"
   ]
  },
  {
   "cell_type": "code",
   "execution_count": 7,
   "metadata": {},
   "outputs": [
    {
     "name": "stdout",
     "output_type": "stream",
     "text": [
      "10\n"
     ]
    }
   ],
   "source": [
    "y = lambda a,b : a*b\n",
    "print(y(5,2))"
   ]
  },
  {
   "cell_type": "code",
   "execution_count": 8,
   "metadata": {},
   "outputs": [
    {
     "name": "stdout",
     "output_type": "stream",
     "text": [
      "10\n"
     ]
    }
   ],
   "source": [
    "a = 10\n",
    "print(a)"
   ]
  },
  {
   "attachments": {},
   "cell_type": "markdown",
   "metadata": {},
   "source": [
    "Class"
   ]
  },
  {
   "cell_type": "code",
   "execution_count": 9,
   "metadata": {},
   "outputs": [
    {
     "name": "stdout",
     "output_type": "stream",
     "text": [
      "10\n"
     ]
    }
   ],
   "source": [
    "#creating a class\n",
    "class Class1:\n",
    "  a = 10 #property of class 1\n",
    "\n",
    "print(a)"
   ]
  },
  {
   "cell_type": "code",
   "execution_count": 12,
   "metadata": {},
   "outputs": [
    {
     "name": "stdout",
     "output_type": "stream",
     "text": [
      "Hello\n"
     ]
    }
   ],
   "source": [
    "class Class2:\n",
    "  def function1():\n",
    "    print(\"Hello\")\n",
    "    \n",
    "Class2.function1() #VDE solution only"
   ]
  },
  {
   "cell_type": "code",
   "execution_count": 14,
   "metadata": {},
   "outputs": [
    {
     "name": "stdout",
     "output_type": "stream",
     "text": [
      "Hello\n"
     ]
    }
   ],
   "source": [
    "class Class2:\n",
    "  def function1(self): #self - compulsary use, need to write everytime creating function in a class\n",
    "    print(\"Hello\")\n",
    "    \n",
    "#creating object\n",
    "obj = Class2()\n",
    "obj.function1()"
   ]
  },
  {
   "cell_type": "code",
   "execution_count": 18,
   "metadata": {},
   "outputs": [
    {
     "name": "stdout",
     "output_type": "stream",
     "text": [
      "Hello\n"
     ]
    },
    {
     "data": {
      "text/plain": [
       "20"
      ]
     },
     "execution_count": 18,
     "metadata": {},
     "output_type": "execute_result"
    }
   ],
   "source": [
    "class Class2: #serve as a home\n",
    "  #access tv inside the home as an example\n",
    "  def function1(self): #self - compulsary use, need to write everytime creating function in a class\n",
    "    print(\"Hello\")\n",
    "  b = 20 #under the class2 not function1\n",
    "#creating object\n",
    "obj = Class2()\n",
    "obj.function1() #no need for this, function automatially called in obj=class2()\n",
    "obj.b #key to access the b value"
   ]
  },
  {
   "cell_type": "code",
   "execution_count": 22,
   "metadata": {},
   "outputs": [
    {
     "name": "stdout",
     "output_type": "stream",
     "text": [
      "Parameterized Constructor\n"
     ]
    }
   ],
   "source": [
    "#Constructor\n",
    "class Class3:\n",
    "  def __init__(self): #initialization, constructor name, double underscrore before and after\n",
    "    print(\"Constructor\")\n",
    "\n",
    "obj1 = Class3()"
   ]
  },
  {
   "cell_type": "code",
   "execution_count": 23,
   "metadata": {},
   "outputs": [
    {
     "name": "stdout",
     "output_type": "stream",
     "text": [
      "Parameterized Constructor\n"
     ]
    }
   ],
   "source": [
    "#Constructor\n",
    "class Class3:\n",
    "  def __init__(self): #initialization, constructor name, double underscrore before and after\n",
    "    print(\"Constructor\")\n",
    "  def __init__(self,a):\n",
    "    print(\"Parameterized Constructor\")\n",
    "\n",
    "obj1 = Class3(10) #needed a value inside the bracket, can be anything, 'A' or number to run\n",
    "#every class has one constructor, cannot print 2"
   ]
  },
  {
   "attachments": {},
   "cell_type": "markdown",
   "metadata": {},
   "source": [
    "TASK:\n",
    "create one class\n",
    "inside class\n",
    "  1. parameterized constructor\n",
    "  2. w/o arg function\n",
    "  3. w/ arg function\n",
    "  4. one variable\n",
    "call all the properties by using object\n",
    "\n",
    "NOTE: take argument after self only"
   ]
  },
  {
   "cell_type": "code",
   "execution_count": 32,
   "metadata": {},
   "outputs": [
    {
     "name": "stdout",
     "output_type": "stream",
     "text": [
      "Parameterized Constructor\n",
      "without argument function\n",
      "30\n"
     ]
    },
    {
     "data": {
      "text/plain": [
       "10"
      ]
     },
     "execution_count": 32,
     "metadata": {},
     "output_type": "execute_result"
    }
   ],
   "source": [
    "class Class4:\n",
    "  def __init__(self,x):\n",
    "    print(\"Parameterized Constructor\")\n",
    "    \n",
    "  def without(self):\n",
    "    print(\"without argument function\")\n",
    "  \n",
    "  def addition(self,a,b):\n",
    "    c=a+b\n",
    "    print(c)\n",
    "  \n",
    "  v = 10\n",
    "\n",
    "obj1 = Class4(x)\n",
    "obj1.without()\n",
    "obj1.addition(10,20)\n",
    "obj1.v"
   ]
  }
 ],
 "metadata": {
  "kernelspec": {
   "display_name": "Python 3",
   "language": "python",
   "name": "python3"
  },
  "language_info": {
   "codemirror_mode": {
    "name": "ipython",
    "version": 3
   },
   "file_extension": ".py",
   "mimetype": "text/x-python",
   "name": "python",
   "nbconvert_exporter": "python",
   "pygments_lexer": "ipython3",
   "version": "3.11.2"
  },
  "orig_nbformat": 4
 },
 "nbformat": 4,
 "nbformat_minor": 2
}
