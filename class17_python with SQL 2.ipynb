{
 "cells": [
  {
   "cell_type": "code",
   "execution_count": null,
   "metadata": {},
   "outputs": [],
   "source": [
    "import pymysql"
   ]
  },
  {
   "cell_type": "code",
   "execution_count": null,
   "metadata": {},
   "outputs": [],
   "source": [
    "def createConn():\n",
    "  return pymysql.connect(host = \"localhost\", database = \"testdb\", user = \"root\", password = \"\", port = 3306)"
   ]
  },
  {
   "cell_type": "code",
   "execution_count": null,
   "metadata": {},
   "outputs": [],
   "source": [
    "def CreateTable():\n",
    "  conn = createConn()\n",
    "  cursor = conn.cursor()\n",
    "#  args = (name, city, email)\n",
    "  query = (\"create table mytable(name varchar(50), cityvarchar(50), address varchar(50), email varchar(50))\")\n",
    "  cursor.execute(query, args)\n",
    "  conn.commit()\n",
    "  print(\"Data is inserted\")\n",
    "  conn.close()"
   ]
  }
 ],
 "metadata": {
  "kernelspec": {
   "display_name": "Python 3",
   "language": "python",
   "name": "python3"
  },
  "language_info": {
   "name": "python",
   "version": "3.11.2"
  },
  "orig_nbformat": 4
 },
 "nbformat": 4,
 "nbformat_minor": 2
}
