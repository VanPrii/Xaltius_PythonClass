{
 "cells": [
  {
   "cell_type": "code",
   "execution_count": null,
   "metadata": {},
   "outputs": [],
   "source": [
    "a = int(input(\"Enter a value of A: \"))\n",
    "b = int(input(\"Enter a value of B: \"))\n",
    "if(a>b):\n",
    "  print(\"A is greater than B\")"
   ]
  },
  {
   "cell_type": "code",
   "execution_count": 11,
   "metadata": {},
   "outputs": [],
   "source": [
    "a = int(input(\"Enter a value of A: \"))\n",
    "b = int(input(\"Enter a value of B: \"))\n",
    "c = int(input(\"Enter a value of C: \"))\n",
    "\n",
    "if(a>b and a>c):\n",
    "  print(\"A is greater than B and C\")"
   ]
  },
  {
   "cell_type": "code",
   "execution_count": 18,
   "metadata": {},
   "outputs": [
    {
     "name": "stdout",
     "output_type": "stream",
     "text": [
      "Failed\n"
     ]
    }
   ],
   "source": [
    "value1 = float(input(\"Enter grade: \")) #float for decimal\n",
    "if (value1>70):\n",
    "  print(\"Distinction\")\n",
    "elif(value1>=65 and value1<70):\n",
    "  print(\"First class\")\n",
    "elif(value1>=60 and value1<65):\n",
    "  print(\"Second class\")\n",
    "elif(value1>=55 and value1<60):\n",
    "  print(\"Third class\")\n",
    "else:\n",
    "  print(\"Failed\")"
   ]
  },
  {
   "attachments": {},
   "cell_type": "markdown",
   "metadata": {},
   "source": [
    "Nested If\n",
    "\n",
    "Blood Donate\n",
    "-> Age should be greater than 18\n",
    "-> Weight Should be greater than 50\n",
    "-> If age and weight both match then only user can donate blood\n",
    "-> if age is less than 18 show msg \"under Age\"\n",
    "-> if weight is less than 50 show msg \"Under Weight\"\n",
    "-> if age is less than 18 it should not ask for weight"
   ]
  },
  {
   "cell_type": "code",
   "execution_count": 25,
   "metadata": {},
   "outputs": [
    {
     "name": "stdout",
     "output_type": "stream",
     "text": [
      "You can donate blood\n"
     ]
    }
   ],
   "source": [
    "age = int(input(\"Age: \"))\n",
    "if (age>=18):\n",
    "  if (weight>=50):\n",
    "    weight = float(input(\"Weight: \"))\n",
    "    print(\"You can donate blood\")\n",
    "  else:\n",
    "    print(\"You are underweight\")\n",
    "else:\n",
    "  print(\"You are under age\")"
   ]
  },
  {
   "attachments": {},
   "cell_type": "markdown",
   "metadata": {},
   "source": [
    "ASSIGNMENT 1:\n",
    "Pizza App\n",
    "\n",
    "Note -- User should have 4 wheeler then only user can buy\n",
    "\n",
    "Small -- Buy 4 small pizza offer is 500 ml coke free\n",
    "Medium -- Buy 3 medium pizza offer is 1ltr coke free\n",
    "Large -- Buy 2 large pizza offer is 1 ice-cream with browine free\n",
    "Monster -- Buy 1 monster pizza offer is 1 small pizza and 500 ml coke free\n",
    "\n",
    "\n",
    "User Input:\n",
    "\n",
    "Wheeler == Yes/No\n",
    "Size == String\n",
    "qty = int\n",
    "\n",
    "Note == After size only it should ask for qty"
   ]
  },
  {
   "cell_type": "code",
   "execution_count": 1,
   "metadata": {},
   "outputs": [
    {
     "name": "stdout",
     "output_type": "stream",
     "text": [
      "Sorry, you did not enter a number.\n"
     ]
    }
   ],
   "source": [
    "#Qty should be after size match - Sunit\n",
    "wheeler = input(\"Are you a wheeler?(Yes/No): \")\n",
    "if (wheeler==\"yes\"):\n",
    "  size = input(\"What size do you want to order?(Small/Medium/Large/Monster): \")\n",
    "  if size in [\"small\", \"medium\", \"large\", \"monster\"]:\n",
    "    qty = input(\"How many?: \")\n",
    "    if qty.isdigit(): #accepts number only\n",
    "      if (size==\"small\"):\n",
    "        print(\"Buy 4 small pizza offer isa 500ml coke free\")\n",
    "      elif (size==\"medium\"):\n",
    "        print(\"Buy 3 medium pizza offer is 1 liter coke free\")\n",
    "      elif (size==\"large\"):\n",
    "        print(\"Buy 2 large pizza offer is 1 ice cream with brownie free\")\n",
    "      elif (size==\"monster\"):\n",
    "        print(\"Buy 1 monster pizza offer is 1 small pizza and 500 ml coke free\")\n",
    "      else:\n",
    "        print(\"None of the choices.\")\n",
    "    else:\n",
    "      print(\"Sorry, you did not enter a number.\")\n",
    "  else:\n",
    "    print(\"Please choose among the sizes available.\")\n",
    "else:\n",
    "  print(\"Sorry, you cannot order.\")"
   ]
  },
  {
   "attachments": {},
   "cell_type": "markdown",
   "metadata": {},
   "source": [
    "Looping Statements"
   ]
  },
  {
   "cell_type": "code",
   "execution_count": 1,
   "metadata": {},
   "outputs": [
    {
     "name": "stdout",
     "output_type": "stream",
     "text": [
      "1\n",
      "2\n",
      "3\n",
      "4\n",
      "5\n",
      "6\n",
      "7\n",
      "8\n",
      "9\n",
      "10\n"
     ]
    }
   ],
   "source": [
    "for i in range(1,11):\n",
    "  print(i)"
   ]
  },
  {
   "cell_type": "code",
   "execution_count": 2,
   "metadata": {},
   "outputs": [
    {
     "name": "stdout",
     "output_type": "stream",
     "text": [
      "1\n",
      "3\n",
      "5\n",
      "7\n",
      "9\n"
     ]
    }
   ],
   "source": [
    "for i in range(1,11,2):\n",
    "  print(i)"
   ]
  },
  {
   "attachments": {},
   "cell_type": "markdown",
   "metadata": {},
   "source": [
    "Nested Loop"
   ]
  },
  {
   "cell_type": "code",
   "execution_count": 3,
   "metadata": {},
   "outputs": [
    {
     "name": "stdout",
     "output_type": "stream",
     "text": [
      "*\n",
      "**\n",
      "***\n",
      "****\n",
      "*****\n"
     ]
    }
   ],
   "source": [
    "for i in range(1,6,1):\n",
    "  for j in range(i):\n",
    "    print(\"*\",end=\"\")  #end=\"\" for horizontal manner\n",
    "  print()"
   ]
  },
  {
   "cell_type": "code",
   "execution_count": 4,
   "metadata": {},
   "outputs": [
    {
     "name": "stdout",
     "output_type": "stream",
     "text": [
      "*****\n",
      "****\n",
      "***\n",
      "**\n",
      "*\n"
     ]
    }
   ],
   "source": [
    "for i in range(5,0,-1):\n",
    "  for j in range(i):\n",
    "    print(\"*\",end=\"\")  #end=\"\" for horizontal manner\n",
    "  print()"
   ]
  },
  {
   "attachments": {},
   "cell_type": "markdown",
   "metadata": {},
   "source": [
    "ASSIGNMENT 2:\n",
    "1\n",
    "10\n",
    "101\n",
    "1010\n",
    "10101\n",
    "\n",
    "1\n",
    "22\n",
    "333\n",
    "4444\n",
    "55555\n",
    "\n",
    "1\n",
    "12\n",
    "123\n",
    "1234\n",
    "12345\n",
    "\n",
    "A\n",
    "AB\n",
    "ABC\n",
    "ABCD\n",
    "ABCDE\n",
    "\n",
    "$\n",
    "$#\n",
    "$#$\n",
    "$#$#\n",
    "#$#$#"
   ]
  },
  {
   "cell_type": "code",
   "execution_count": 34,
   "metadata": {},
   "outputs": [
    {
     "name": "stdout",
     "output_type": "stream",
     "text": [
      "1\n",
      "10\n",
      "101\n",
      "1010\n",
      "10101\n"
     ]
    }
   ],
   "source": [
    "#pattern 1 - solution 1\n",
    "characters=\"10101\"\n",
    "for row in range(0,5):\n",
    "  for col in range(0,row+1):\n",
    "    print (characters[col],end=\"\") #printing string per character\n",
    "  print()"
   ]
  },
  {
   "cell_type": "code",
   "execution_count": 13,
   "metadata": {},
   "outputs": [
    {
     "name": "stdout",
     "output_type": "stream",
     "text": [
      "1\n",
      "10\n",
      "101\n",
      "1010\n",
      "10101\n"
     ]
    }
   ],
   "source": [
    "#pattern 1 - solution 2\n",
    "n=5\n",
    "for row in range(1,n+1):\n",
    "  for col in range(1,row+1):\n",
    "    print(col%2, end=\"\") #modulo to get the remainder\n",
    "  print()"
   ]
  },
  {
   "cell_type": "code",
   "execution_count": 14,
   "metadata": {},
   "outputs": [
    {
     "name": "stdout",
     "output_type": "stream",
     "text": [
      "1\n",
      "22\n",
      "333\n",
      "4444\n",
      "55555\n"
     ]
    }
   ],
   "source": [
    "#pattern 2\n",
    "for row in range(1,6):\n",
    "  for col in range(row):\n",
    "    print(row,end=\"\")\n",
    "  print()"
   ]
  },
  {
   "cell_type": "code",
   "execution_count": 21,
   "metadata": {},
   "outputs": [
    {
     "name": "stdout",
     "output_type": "stream",
     "text": [
      "1\n",
      "12\n",
      "123\n",
      "1234\n",
      "12345\n"
     ]
    }
   ],
   "source": [
    "#pattern 3 - solution 1\n",
    "for row in range(1,6):\n",
    "  for col in range(1,row+1):\n",
    "    print(col,end=\"\")\n",
    "  print()"
   ]
  },
  {
   "cell_type": "code",
   "execution_count": 7,
   "metadata": {},
   "outputs": [
    {
     "name": "stdout",
     "output_type": "stream",
     "text": [
      "1\n",
      "12\n",
      "123\n",
      "1234\n",
      "12345\n"
     ]
    }
   ],
   "source": [
    "#pattern 3 - solution 2\n",
    "for row in range(1,6):\n",
    "  for col in range(49,49+row): #ASCII code\n",
    "    abc = chr(col)\n",
    "    print (abc,end=\"\")\n",
    "  print()"
   ]
  },
  {
   "cell_type": "code",
   "execution_count": 14,
   "metadata": {},
   "outputs": [
    {
     "name": "stdout",
     "output_type": "stream",
     "text": [
      "1\n",
      "12\n",
      "123\n",
      "1234\n",
      "12345\n"
     ]
    }
   ],
   "source": [
    "#pattern 3 - solution 3\n",
    "characters=\"12345\"\n",
    "for row in range(0,5):\n",
    "  for col in range(0,row+1):\n",
    "    print (characters[col],end=\"\") #printing string per character\n",
    "  print()"
   ]
  },
  {
   "cell_type": "code",
   "execution_count": 29,
   "metadata": {},
   "outputs": [
    {
     "name": "stdout",
     "output_type": "stream",
     "text": [
      "A\n",
      "AB\n",
      "ABC\n",
      "ABCD\n",
      "ABCDE\n"
     ]
    }
   ],
   "source": [
    "#pattern 4\n",
    "for row in range(1,6):\n",
    "  for col in range(65,65+row): #ASCII code\n",
    "    abc = chr(col)\n",
    "    print (abc,end=\"\")\n",
    "  print()"
   ]
  },
  {
   "cell_type": "code",
   "execution_count": 33,
   "metadata": {},
   "outputs": [
    {
     "name": "stdout",
     "output_type": "stream",
     "text": [
      "#\n",
      "#$\n",
      "#$#\n",
      "#$#$\n",
      "#$#$#\n"
     ]
    }
   ],
   "source": [
    "#pattern 5 - solution 1\n",
    "characters=\"#$#$#\"\n",
    "for row in range(0,5):\n",
    "  for col in range(0,row+1):\n",
    "    print (characters[col],end=\"\") #printing string per character\n",
    "  print()"
   ]
  },
  {
   "cell_type": "code",
   "execution_count": 11,
   "metadata": {},
   "outputs": [
    {
     "name": "stdout",
     "output_type": "stream",
     "text": [
      "#\n",
      "#$\n",
      "#$%\n",
      "#$%&\n",
      "#$%&'\n"
     ]
    }
   ],
   "source": [
    "#pattern 5 - solution 2 (WIP)\n",
    "for row in range(1,6):\n",
    "  for col in range(35,35+row): #ASCII code\n",
    "    abc = chr(col)\n",
    "    print (abc,end=\"\")\n",
    "  print()"
   ]
  }
 ],
 "metadata": {
  "kernelspec": {
   "display_name": "Python 3.11.2 64-bit",
   "language": "python",
   "name": "python3"
  },
  "language_info": {
   "codemirror_mode": {
    "name": "ipython",
    "version": 3
   },
   "file_extension": ".py",
   "mimetype": "text/x-python",
   "name": "python",
   "nbconvert_exporter": "python",
   "pygments_lexer": "ipython3",
   "version": "3.11.2"
  },
  "orig_nbformat": 4,
  "vscode": {
   "interpreter": {
    "hash": "aee8b7b246df8f9039afb4144a1f6fd8d2ca17a180786b69acc140d282b71a49"
   }
  }
 },
 "nbformat": 4,
 "nbformat_minor": 2
}
