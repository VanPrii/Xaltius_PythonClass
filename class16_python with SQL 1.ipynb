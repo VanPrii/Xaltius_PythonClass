{
 "cells": [
  {
   "cell_type": "code",
   "execution_count": 1,
   "metadata": {},
   "outputs": [
    {
     "name": "stdout",
     "output_type": "stream",
     "text": [
      "Collecting pymysql\n",
      "  Downloading PyMySQL-1.1.0-py3-none-any.whl (44 kB)\n",
      "\u001b[2K     \u001b[90m━━━━━━━━━━━━━━━━━━━━━━━━━━━━━━━━━━━━━━━━\u001b[0m \u001b[32m44.8/44.8 kB\u001b[0m \u001b[31m2.6 MB/s\u001b[0m eta \u001b[36m0:00:00\u001b[0m\n",
      "\u001b[?25hInstalling collected packages: pymysql\n",
      "Successfully installed pymysql-1.1.0\n",
      "\n",
      "\u001b[1m[\u001b[0m\u001b[34;49mnotice\u001b[0m\u001b[1;39;49m]\u001b[0m\u001b[39;49m A new release of pip available: \u001b[0m\u001b[31;49m22.3.1\u001b[0m\u001b[39;49m -> \u001b[0m\u001b[32;49m23.1.2\u001b[0m\n",
      "\u001b[1m[\u001b[0m\u001b[34;49mnotice\u001b[0m\u001b[1;39;49m]\u001b[0m\u001b[39;49m To update, run: \u001b[0m\u001b[32;49mpip3 install --upgrade pip\u001b[0m\n",
      "Note: you may need to restart the kernel to use updated packages.\n"
     ]
    }
   ],
   "source": [
    "pip install pymysql"
   ]
  },
  {
   "cell_type": "code",
   "execution_count": 29,
   "metadata": {},
   "outputs": [],
   "source": [
    "import pymysql"
   ]
  },
  {
   "cell_type": "code",
   "execution_count": 36,
   "metadata": {},
   "outputs": [],
   "source": [
    "#connection between python and database\n",
    "#create a function\n",
    "def createConn(): #createConn - variable\n",
    "  return pymysql.connect(host = \"localhost\", database = \"testdb\", user = \"root\", password = \"\", port = 3306) #need to pass 5 parameters\n",
    "#how to check port number - check your xampp mysql port\n",
    "#database = 'database name'"
   ]
  },
  {
   "cell_type": "code",
   "execution_count": 37,
   "metadata": {},
   "outputs": [],
   "source": [
    "#id - set as auto increment (AI) checkbox in XAMPP\n",
    "def insertData(name, city, email): #no need to include id\n",
    "  conn = createConn() #automatically create connection\n",
    "  cursor = conn.cursor() #used to execute mysql query\n",
    "  args = (name, city, email)\n",
    "  query = (\"insert into table1(name, city, email)values(%s,%s,%s)\") #table name - table 1, values shoudl be dynamic, %s need to pass dynamic things\n",
    "  cursor.execute(query, args)\n",
    "  conn.commit() #commit - to store data in the database\n",
    "  print(\"Data is inserted\")\n",
    "  conn.close()"
   ]
  },
  {
   "cell_type": "code",
   "execution_count": 38,
   "metadata": {},
   "outputs": [],
   "source": [
    "#fetch the data\n",
    "def getAll():\n",
    "  conn = createConn()\n",
    "  cursor = conn.cursor()\n",
    "  cursor.execute(\"select * from table1\")\n",
    "  res = cursor.fetchall() #store data\n",
    "  for i in res:\n",
    "    print(i)"
   ]
  },
  {
   "cell_type": "code",
   "execution_count": 40,
   "metadata": {},
   "outputs": [],
   "source": [
    "def getDataByID(tid):\n",
    "  conn = createConn()\n",
    "  cursor = conn.cursor()\n",
    "  args = (tid)\n",
    "  query = \"select * from table1 where id=%s\" #%s - to pass the dynamic data\n",
    "  cursor.execute(query, args)\n",
    "  res = cursor.fetchall()\n",
    "  print(res)"
   ]
  },
  {
   "cell_type": "code",
   "execution_count": 48,
   "metadata": {},
   "outputs": [],
   "source": [
    "def UpdateData(tid, name, city, email): #use fill name according to queries\n",
    "  conn = createConn() #for searching by id\n",
    "  cursor = conn.cursor()\n",
    "  args = (tid, name, city, email)\n",
    "  query = \"update table1 set name=%s, city=%s, email=%s where id=%s\"\n",
    "  cursor.execute(query,args)\n",
    "  conn.commit() #commit - to save the data\n",
    "  print(\"Data Updated\")\n",
    "  conn.close()"
   ]
  },
  {
   "cell_type": "code",
   "execution_count": 58,
   "metadata": {},
   "outputs": [],
   "source": [
    "#delete data by id\n",
    "def DeleteData(tid):\n",
    "  conn = createConn()\n",
    "  cursor = conn.cursor()\n",
    "  args = (tid)\n",
    "  query = \"DELETE FROM table1 WHERE id=%s\"\n",
    "  cursor.execute(query,args)\n",
    "  conn.commit()\n",
    "  print(\"Data Deleted\")\n",
    "  conn.close()"
   ]
  },
  {
   "cell_type": "code",
   "execution_count": 45,
   "metadata": {},
   "outputs": [
    {
     "name": "stdout",
     "output_type": "stream",
     "text": [
      "Data is inserted\n",
      "(1, 'g', 'h', 'j')\n",
      "(2, 'd', 'r', 't')\n",
      "(3, 'k', 'l', 'o')\n",
      "()\n"
     ]
    }
   ],
   "source": [
    "#how to execute the function - INSERT\n",
    "n = input(\"Name: \")\n",
    "c = input(\"City: \")\n",
    "e = input(\"Email: \")\n",
    "\n",
    "#insert data on table\n",
    "insertData(n, c, e)\n",
    "getAll()\n",
    "\n",
    "getDataByID(tid)\n",
    "\n",
    "#when passing a parameter, id should be at the end"
   ]
  },
  {
   "cell_type": "code",
   "execution_count": 50,
   "metadata": {},
   "outputs": [
    {
     "name": "stdout",
     "output_type": "stream",
     "text": [
      "Data Updated\n",
      "(1, 'van', 'pri', 'cess')\n",
      "(2, 'd', 'r', 't')\n",
      "(3, 'k', 'l', 'o')\n",
      "((1, 'van', 'pri', 'cess'),)\n"
     ]
    }
   ],
   "source": [
    "#how to execute the function - UPDATE\n",
    "n = input(\"Name: \")\n",
    "c = input(\"City: \")\n",
    "e = input(\"Email: \")\n",
    "\n",
    "tid = int(input(\"ID: \"))\n",
    "\n",
    "#update data on table\n",
    "UpdateData(n, c, e, tid) #when passing a parameter, id should be at the end\n",
    "getAll()\n",
    "\n",
    "getDataByID(tid)"
   ]
  },
  {
   "cell_type": "code",
   "execution_count": 59,
   "metadata": {},
   "outputs": [
    {
     "name": "stdout",
     "output_type": "stream",
     "text": [
      "Data Deleted\n"
     ]
    }
   ],
   "source": [
    "#how to execute the function - DELETE\n",
    "tid = int(input(\"ID: \"))\n",
    "\n",
    "#delete data on table\n",
    "DeleteData(tid)"
   ]
  }
 ],
 "metadata": {
  "kernelspec": {
   "display_name": "Python 3",
   "language": "python",
   "name": "python3"
  },
  "language_info": {
   "codemirror_mode": {
    "name": "ipython",
    "version": 3
   },
   "file_extension": ".py",
   "mimetype": "text/x-python",
   "name": "python",
   "nbconvert_exporter": "python",
   "pygments_lexer": "ipython3",
   "version": "3.11.2"
  },
  "orig_nbformat": 4
 },
 "nbformat": 4,
 "nbformat_minor": 2
}
