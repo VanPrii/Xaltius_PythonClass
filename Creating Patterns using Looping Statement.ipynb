{
 "cells": [
  {
   "attachments": {},
   "cell_type": "markdown",
   "metadata": {},
   "source": [
    "ASSIGNMENT 2:\n",
    "1\n",
    "10\n",
    "101\n",
    "1010\n",
    "10101\n",
    "\n",
    "1\n",
    "22\n",
    "333\n",
    "4444\n",
    "55555\n",
    "\n",
    "1\n",
    "12\n",
    "123\n",
    "1234\n",
    "12345\n",
    "\n",
    "A\n",
    "AB\n",
    "ABC\n",
    "ABCD\n",
    "ABCDE\n",
    "\n",
    "$\n",
    "$#\n",
    "$#$\n",
    "$#$#\n",
    "#$#$#"
   ]
  },
  {
   "cell_type": "code",
   "execution_count": 1,
   "metadata": {},
   "outputs": [
    {
     "name": "stdout",
     "output_type": "stream",
     "text": [
      "1\n",
      "10\n",
      "101\n",
      "1010\n",
      "10101\n"
     ]
    }
   ],
   "source": [
    "#pattern 1 - solution 1\n",
    "characters=\"10101\"\n",
    "for row in range(0,5):\n",
    "  for col in range(0,row+1):\n",
    "    print (characters[col],end=\"\") #printing string per character\n",
    "  print()"
   ]
  },
  {
   "cell_type": "code",
   "execution_count": 2,
   "metadata": {},
   "outputs": [
    {
     "name": "stdout",
     "output_type": "stream",
     "text": [
      "1\n",
      "10\n",
      "101\n",
      "1010\n",
      "10101\n"
     ]
    }
   ],
   "source": [
    "#pattern 1 - solution 2\n",
    "n=5 #to avoid confusion on counting\n",
    "for row in range(1,n+1):\n",
    "  for col in range(1,row+1):\n",
    "    print(col%2, end=\"\") #modulo to get the remainder\n",
    "  print()"
   ]
  },
  {
   "cell_type": "code",
   "execution_count": 3,
   "metadata": {},
   "outputs": [
    {
     "name": "stdout",
     "output_type": "stream",
     "text": [
      "1\n",
      "22\n",
      "333\n",
      "4444\n",
      "55555\n"
     ]
    }
   ],
   "source": [
    "#pattern 2\n",
    "for row in range(1,6):\n",
    "  for col in range(row):\n",
    "    print(row,end=\"\")\n",
    "  print()"
   ]
  },
  {
   "cell_type": "code",
   "execution_count": 4,
   "metadata": {},
   "outputs": [
    {
     "name": "stdout",
     "output_type": "stream",
     "text": [
      "1\n",
      "12\n",
      "123\n",
      "1234\n",
      "12345\n"
     ]
    }
   ],
   "source": [
    "#pattern 3 - solution 1\n",
    "for row in range(1,6):\n",
    "  for col in range(1,row+1):\n",
    "    print(col,end=\"\")\n",
    "  print()"
   ]
  },
  {
   "cell_type": "code",
   "execution_count": 5,
   "metadata": {},
   "outputs": [
    {
     "name": "stdout",
     "output_type": "stream",
     "text": [
      "1\n",
      "12\n",
      "123\n",
      "1234\n",
      "12345\n"
     ]
    }
   ],
   "source": [
    "#pattern 3 - solution 2\n",
    "for row in range(1,6):\n",
    "  for col in range(49,49+row): #ASCII code\n",
    "    abc = chr(col)\n",
    "    print (abc,end=\"\")\n",
    "  print()"
   ]
  },
  {
   "cell_type": "code",
   "execution_count": 6,
   "metadata": {},
   "outputs": [
    {
     "name": "stdout",
     "output_type": "stream",
     "text": [
      "1\n",
      "12\n",
      "123\n",
      "1234\n",
      "12345\n"
     ]
    }
   ],
   "source": [
    "#pattern 3 - solution 3\n",
    "characters=\"12345\"\n",
    "for row in range(0,5):\n",
    "  for col in range(0,row+1):\n",
    "    print (characters[col],end=\"\") #printing string per character\n",
    "  print()"
   ]
  },
  {
   "cell_type": "code",
   "execution_count": 7,
   "metadata": {},
   "outputs": [
    {
     "name": "stdout",
     "output_type": "stream",
     "text": [
      "A\n",
      "AB\n",
      "ABC\n",
      "ABCD\n",
      "ABCDE\n"
     ]
    }
   ],
   "source": [
    "#pattern 4\n",
    "for row in range(1,6):\n",
    "  for col in range(65,65+row): #ASCII code\n",
    "    abc = chr(col)\n",
    "    print (abc,end=\"\")\n",
    "  print()"
   ]
  },
  {
   "cell_type": "code",
   "execution_count": 8,
   "metadata": {},
   "outputs": [
    {
     "name": "stdout",
     "output_type": "stream",
     "text": [
      "#\n",
      "#$\n",
      "#$#\n",
      "#$#$\n",
      "#$#$#\n"
     ]
    }
   ],
   "source": [
    "#pattern 5 - solution 1\n",
    "characters=\"#$#$#\"\n",
    "for row in range(0,5):\n",
    "  for col in range(0,row+1):\n",
    "    print (characters[col],end=\"\") #printing string per character\n",
    "  print()"
   ]
  },
  {
   "cell_type": "code",
   "execution_count": 9,
   "metadata": {},
   "outputs": [
    {
     "name": "stdout",
     "output_type": "stream",
     "text": [
      "#\n",
      "#$\n",
      "#$%\n",
      "#$%&\n",
      "#$%&'\n"
     ]
    }
   ],
   "source": [
    "#pattern 5 - solution 2 (WIP)\n",
    "for row in range(1,6):\n",
    "  for col in range(35,35+row): #ASCII code\n",
    "    abc = chr(col)\n",
    "    print (abc,end=\"\")\n",
    "  print()"
   ]
  }
 ],
 "metadata": {
  "kernelspec": {
   "display_name": "Python 3",
   "language": "python",
   "name": "python3"
  },
  "language_info": {
   "codemirror_mode": {
    "name": "ipython",
    "version": 3
   },
   "file_extension": ".py",
   "mimetype": "text/x-python",
   "name": "python",
   "nbconvert_exporter": "python",
   "pygments_lexer": "ipython3",
   "version": "3.11.2"
  },
  "orig_nbformat": 4
 },
 "nbformat": 4,
 "nbformat_minor": 2
}
