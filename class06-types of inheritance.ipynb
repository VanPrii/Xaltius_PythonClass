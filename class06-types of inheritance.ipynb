{
 "cells": [
  {
   "cell_type": "code",
   "execution_count": 12,
   "metadata": {},
   "outputs": [
    {
     "name": "stdout",
     "output_type": "stream",
     "text": [
      "Function 1\n",
      "Function 2\n"
     ]
    }
   ],
   "source": [
    "#single inheritance\n",
    "class Class1: #Parent class\n",
    "  def function1(self):\n",
    "    print(\"Function 1\")\n",
    "\n",
    "class Class2(Class1): #Child class\n",
    "  def function2(self):\n",
    "    print(\"Function 2\")\n",
    "\n",
    "obj = Class2()\n",
    "obj.function1() #belongs to class1\n",
    "obj.function2()\n"
   ]
  },
  {
   "cell_type": "code",
   "execution_count": 2,
   "metadata": {},
   "outputs": [
    {
     "name": "stdout",
     "output_type": "stream",
     "text": [
      "Function 1\n",
      "Function 2\n",
      "function 3\n"
     ]
    }
   ],
   "source": [
    "#multilevel\n",
    "class C1:\n",
    "  def function1(self):\n",
    "    print(\"Function 1\")\n",
    "\n",
    "class C2(C1): #inheritance\n",
    "  def function2(self):\n",
    "    print(\"Function 2\")\n",
    "\n",
    "class C3(C2): #inheritance\n",
    "  def function3(self):\n",
    "    print(\"function 3\")\n",
    "    \n",
    "obj = C3()\n",
    "obj.function1()\n",
    "obj.function2()\n",
    "obj.function3()"
   ]
  },
  {
   "cell_type": "code",
   "execution_count": 4,
   "metadata": {},
   "outputs": [
    {
     "name": "stdout",
     "output_type": "stream",
     "text": [
      "Function 1\n",
      "Function 2\n",
      "function 3\n"
     ]
    }
   ],
   "source": [
    "#multiple inheritance\n",
    "class Parent1:\n",
    "  def function1(self):\n",
    "    print(\"Function 1\")\n",
    "\n",
    "class Parent2:\n",
    "  def function2(self):\n",
    "    print(\"Function 2\")\n",
    "\n",
    "class Child(Parent1,Parent2):\n",
    "  def function3(self):\n",
    "    print(\"function 3\")\n",
    "    \n",
    "obj = Child()\n",
    "obj.function1()\n",
    "obj.function2()\n",
    "obj.function3()"
   ]
  },
  {
   "cell_type": "code",
   "execution_count": 11,
   "metadata": {},
   "outputs": [
    {
     "name": "stdout",
     "output_type": "stream",
     "text": [
      "Parent\n",
      "Child 1\n",
      "Parent\n",
      "Child 2\n"
     ]
    }
   ],
   "source": [
    "#Hierarchy inheritance\n",
    "class P:\n",
    "  def function1(self):\n",
    "    print(\"Parent\")\n",
    "\n",
    "class Ch1(P):\n",
    "  def function2(self):\n",
    "    print(\"Child 1\")\n",
    "\n",
    "class Ch2(P):\n",
    "  def function3(self):\n",
    "    print(\"Child 2\")\n",
    "    \n",
    "obj1 = Ch1()\n",
    "obj2 = Ch2()\n",
    "obj1.function1()\n",
    "obj1.function2()\n",
    "obj2.function1()\n",
    "obj2.function3()"
   ]
  },
  {
   "cell_type": "code",
   "execution_count": 18,
   "metadata": {},
   "outputs": [
    {
     "name": "stdout",
     "output_type": "stream",
     "text": [
      "Function 1\n",
      "Function 2\n",
      "function 3\n",
      "function 4\n"
     ]
    }
   ],
   "source": [
    "#hybrid diamond diagram\n",
    "class Parent:\n",
    "  def function1(self):\n",
    "    print(\"Function 1\")\n",
    "\n",
    "class Child1(Parent): #inheritance\n",
    "  def function2(self):\n",
    "    print(\"Function 2\")\n",
    "\n",
    "class Child2(Parent): #inheritance\n",
    "  def function3(self):\n",
    "    print(\"function 3\")\n",
    "\n",
    "class Grandchild(Child1,Child2): #inheritance\n",
    "  def function4(self):\n",
    "    print(\"function 4\")\n",
    "\n",
    "#obj1 = Child1()\n",
    "#obj2 = Child2()\n",
    "obj3 = Grandchild()\n",
    "\n",
    "#obj1.function1()\n",
    "#obj1.function2()\n",
    "\n",
    "#obj2.function1()\n",
    "#obj2.function3()\n",
    "\n",
    "obj3.function1()\n",
    "obj3.function2()\n",
    "obj3.function3()\n",
    "obj3.function4()"
   ]
  }
 ],
 "metadata": {
  "kernelspec": {
   "display_name": "Python 3",
   "language": "python",
   "name": "python3"
  },
  "language_info": {
   "codemirror_mode": {
    "name": "ipython",
    "version": 3
   },
   "file_extension": ".py",
   "mimetype": "text/x-python",
   "name": "python",
   "nbconvert_exporter": "python",
   "pygments_lexer": "ipython3",
   "version": "3.11.2"
  },
  "orig_nbformat": 4
 },
 "nbformat": 4,
 "nbformat_minor": 2
}
