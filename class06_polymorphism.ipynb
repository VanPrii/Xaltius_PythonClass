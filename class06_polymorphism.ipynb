{
 "cells": [
  {
   "cell_type": "code",
   "execution_count": 11,
   "metadata": {},
   "outputs": [
    {
     "name": "stdout",
     "output_type": "stream",
     "text": [
      "Two Args\n"
     ]
    }
   ],
   "source": [
    "#method overloading\n",
    "class MO:\n",
    "  def function(self):\n",
    "    print(\"Zero Args\")\n",
    "  \n",
    "  def function(self,a):\n",
    "    print(\"One Arg\") #need output\n",
    "  \n",
    "  def function(self,b,c):\n",
    "    print(\"Two Args\")\n",
    "\n",
    "obj = MO()\n",
    "obj.function(10,20)\n",
    "#method overloading is not supported in python\n",
    "#python works in interpreter\n",
    "#only have one function name, so it will only execute the last function"
   ]
  },
  {
   "cell_type": "code",
   "execution_count": 1,
   "metadata": {},
   "outputs": [
    {
     "name": "stdout",
     "output_type": "stream",
     "text": [
      "MO3 Function\n",
      "MO2 Function\n",
      "MO1 Function\n"
     ]
    }
   ],
   "source": [
    "#method overriding\n",
    "class MO1:\n",
    "  def function(self,a): #need output\n",
    "    print(\"MO1 Function\")\n",
    "    \n",
    "class MO2(MO1):\n",
    "  def function(self,a): #need output\n",
    "    print(\"MO2 Function\")\n",
    "    super().function(30) #calls MO1\n",
    "    \n",
    "class MO3(MO2):\n",
    "  def function(self,a):\n",
    "    print(\"MO3 Function\")\n",
    "    super().function(20) #calls MO2\n",
    "    \n",
    "obj = MO3()\n",
    "obj.function(10) #only accessible in MO3\n",
    "#assignment:\n",
    "#take only child class object, then print all functions\n",
    "#program will run backwards\n"
   ]
  }
 ],
 "metadata": {
  "kernelspec": {
   "display_name": "Python 3",
   "language": "python",
   "name": "python3"
  },
  "language_info": {
   "codemirror_mode": {
    "name": "ipython",
    "version": 3
   },
   "file_extension": ".py",
   "mimetype": "text/x-python",
   "name": "python",
   "nbconvert_exporter": "python",
   "pygments_lexer": "ipython3",
   "version": "3.11.2"
  },
  "orig_nbformat": 4
 },
 "nbformat": 4,
 "nbformat_minor": 2
}
