{
 "cells": [
  {
   "cell_type": "code",
   "execution_count": 1,
   "metadata": {},
   "outputs": [
    {
     "name": "stdout",
     "output_type": "stream",
     "text": [
      "[1, 2, 3, 4, 5, 10.5, 11.5, 12.5, 13.5, 'A', 'B', 'C', 'D', 'Marilag', 'Vanessa', 'Benjir', 'Lino']\n",
      "<class 'list'>\n"
     ]
    }
   ],
   "source": [
    "l1=[1,2,3,4,5,10.5,11.5,12.5,13.5,'A','B','C','D',\"Marilag\",\"Vanessa\",\"Benjir\",\"Lino\"]\n",
    "print(l1)\n",
    "print(type(l1))"
   ]
  },
  {
   "cell_type": "code",
   "execution_count": 11,
   "metadata": {},
   "outputs": [
    {
     "name": "stdout",
     "output_type": "stream",
     "text": [
      "Current List:  [1, 2, 3, 4, 5, 10.5, 11.5, 12.5, 13.5, 'A', 'B', 'C', 'D', 'Marilag', 'Vanessa', 'Benjir', 'Lino']\n",
      "Size:  17\n",
      "***Print a value between 1 to 10***\n",
      "[1, 2, 3, 4, 5, 10.5, 11.5, 12.5, 13.5, 'A', 'B']\n"
     ]
    }
   ],
   "source": [
    "print(\"Current List: \", l1)\n",
    "print(\"Size: \",len(l1))\n",
    "\n",
    "print(\"***Print a value between 1 to 10***\")\n",
    "print(l1[0:11])"
   ]
  },
  {
   "cell_type": "code",
   "execution_count": 12,
   "metadata": {},
   "outputs": [
    {
     "name": "stdout",
     "output_type": "stream",
     "text": [
      "Current List:  [1, 2, 3, 4, 5, 10.5, 11.5, 12.5, 13.5, 'A', 'B', 'C', 'D', 'Marilag', 'Vanessa', 'Benjir', 'Lino']\n",
      "Size:  17\n",
      "***Print all the value after index 2***\n",
      "[3, 4, 5, 10.5, 11.5, 12.5, 13.5, 'A', 'B']\n"
     ]
    }
   ],
   "source": [
    "print(\"Current List: \", l1)\n",
    "print(\"Size: \",len(l1))\n",
    "\n",
    "print(\"***Print all the value after index 2***\")\n",
    "print(l1[2:11])"
   ]
  },
  {
   "cell_type": "code",
   "execution_count": 13,
   "metadata": {},
   "outputs": [
    {
     "name": "stdout",
     "output_type": "stream",
     "text": [
      "Current List:  [1, 2, 3, 4, 5, 10.5, 11.5, 12.5, 13.5, 'A', 'B', 'C', 'D', 'Marilag', 'Vanessa', 'Benjir', 'Lino']\n",
      "Size:  17\n",
      "***Print the alternate value between 1 to 10***\n",
      "[1, 3, 5, 11.5, 13.5, 'B']\n"
     ]
    }
   ],
   "source": [
    "print(\"Current List: \", l1)\n",
    "print(\"Size: \",len(l1))\n",
    "\n",
    "print(\"***Print the alternate value between 1 to 10***\")\n",
    "print(l1[0:11:2])"
   ]
  },
  {
   "cell_type": "code",
   "execution_count": 14,
   "metadata": {},
   "outputs": [
    {
     "name": "stdout",
     "output_type": "stream",
     "text": [
      "Current List:  [1, 2, 3, 4, 5, 10.5, 11.5, 12.5, 13.5, 'A', 'B', 'C', 'D', 'Marilag', 'Vanessa', 'Benjir', 'Lino']\n",
      "Size:  17\n",
      "***Print value on index 8***\n",
      "[2]\n"
     ]
    }
   ],
   "source": [
    "print(\"Current List: \", l1)\n",
    "print(\"Size: \",len(l1))\n",
    "\n",
    "print(\"***Print value on index 8***\")\n",
    "print(l1[1:8:8])\n",
    "\n",
    "#still for correction"
   ]
  },
  {
   "cell_type": "code",
   "execution_count": 1,
   "metadata": {},
   "outputs": [
    {
     "ename": "NameError",
     "evalue": "name 'l1' is not defined",
     "output_type": "error",
     "traceback": [
      "\u001b[0;31m---------------------------------------------------------------------------\u001b[0m",
      "\u001b[0;31mNameError\u001b[0m                                 Traceback (most recent call last)",
      "Cell \u001b[0;32mIn[1], line 1\u001b[0m\n\u001b[0;32m----> 1\u001b[0m \u001b[39mprint\u001b[39m(\u001b[39m\"\u001b[39m\u001b[39mCurrent List: \u001b[39m\u001b[39m\"\u001b[39m, l1)\n\u001b[1;32m      2\u001b[0m \u001b[39mprint\u001b[39m(\u001b[39m\"\u001b[39m\u001b[39mSize: \u001b[39m\u001b[39m\"\u001b[39m,\u001b[39mlen\u001b[39m(l1))\n\u001b[1;32m      4\u001b[0m \u001b[39mprint\u001b[39m(\u001b[39m\"\u001b[39m\u001b[39m***Print last value of your list***\u001b[39m\u001b[39m\"\u001b[39m)\n",
      "\u001b[0;31mNameError\u001b[0m: name 'l1' is not defined"
     ]
    }
   ],
   "source": [
    "print(\"Current List: \", l1)\n",
    "print(\"Size: \",len(l1))\n",
    "\n",
    "print(\"***Print last value of your list***\")\n",
    "print(l1[-1])"
   ]
  },
  {
   "cell_type": "code",
   "execution_count": 16,
   "metadata": {},
   "outputs": [
    {
     "name": "stdout",
     "output_type": "stream",
     "text": [
      "Current List:  [1, 2, 3, 4, 5, 10.5, 11.5, 12.5, 13.5, 'A', 'B', 'C', 'D', 'Marilag', 'Vanessa', 'Benjir', 'Lino']\n",
      "Updated List:  [1, 2, 3, 4, 5, 'Joseph', 10.5, 11.5, 12.5, 13.5, 'A', 'B', 'C', 'D', 'Marilag', 'Vanessa', 'Benjir', 'Lino']\n"
     ]
    }
   ],
   "source": [
    "print(\"Current List: \",l1)\n",
    "l1.insert(5,\"Joseph\") #inserted a value\n",
    "print(\"Updated List: \",l1)"
   ]
  },
  {
   "cell_type": "code",
   "execution_count": 21,
   "metadata": {},
   "outputs": [
    {
     "name": "stdout",
     "output_type": "stream",
     "text": [
      "Current List:  [1, 2, 3, 4, 5, 'Joseph', 10.5, 11.5, 'Sunit', 13.5, 'A', 'B', 'C', 'D', 'Marilag', 'Vanessa', 'Benjir', 'Lino']\n",
      "Size:  18\n",
      "Updated List:  [1, 2, 3, 4, 5, 'Joseph', 10.5, 11.5, 'Sunit', 13.5, 'A', 'B', 'C', 'D', 'Marilag', 'Vanessa', 'Benjir', 'Lino']\n"
     ]
    }
   ],
   "source": [
    "print(\"Current List: \",l1)\n",
    "print(\"Size: \",len(l1))\n",
    "l1[8]=\"Sunit\" #replaced the value on the index citedname\n",
    "print(\"Updated List: \",l1)"
   ]
  },
  {
   "cell_type": "code",
   "execution_count": 23,
   "metadata": {},
   "outputs": [
    {
     "name": "stdout",
     "output_type": "stream",
     "text": [
      "Current List:  [1, 2, 3, 4, 5, 'Joseph', 10.5, 11.5, 'Sunit', 13.5, 'A', 'B', 'C', 'D', 'Marilag', 'Vanessa', 'Benjir', 'Lino', 'Mango']\n",
      "Size:  19\n",
      "Updated List:  [1, 2, 3, 4, 5, 'Joseph', 10.5, 11.5, 'Sunit', 13.5, 'A', 'B', 'C', 'D', 'Marilag', 'Vanessa', 'Benjir', 'Lino', 'Mango', 'Mango']\n",
      "Size:  20\n"
     ]
    }
   ],
   "source": [
    "print(\"Current List: \",l1)\n",
    "print(\"Size: \",len(l1))\n",
    "l1.append(\"Mango\") #added new value on the list on the last part\n",
    "print(\"Updated List: \",l1)\n",
    "print(\"Size: \",len(l1))"
   ]
  },
  {
   "cell_type": "code",
   "execution_count": 24,
   "metadata": {},
   "outputs": [
    {
     "name": "stdout",
     "output_type": "stream",
     "text": [
      "Current List:  [1, 2, 3, 4, 5, 'Joseph', 10.5, 11.5, 'Sunit', 13.5, 'A', 'B', 'C', 'D', 'Marilag', 'Vanessa', 'Benjir', 'Lino', 'Mango', 'Mango']\n",
      "Size:  20\n",
      "Updated List:  [1, 3, 4, 5, 'Joseph', 10.5, 11.5, 'Sunit', 13.5, 'A', 'B', 'C', 'D', 'Marilag', 'Vanessa', 'Benjir', 'Lino', 'Mango', 'Mango']\n",
      "Size:  19\n"
     ]
    }
   ],
   "source": [
    "print(\"Current List: \",l1)\n",
    "print(\"Size: \",len(l1))\n",
    "l1.remove(2) #removed value of index 2\n",
    "print(\"Updated List: \",l1)\n",
    "print(\"Size: \",len(l1))"
   ]
  },
  {
   "cell_type": "code",
   "execution_count": 25,
   "metadata": {},
   "outputs": [
    {
     "name": "stdout",
     "output_type": "stream",
     "text": [
      "Current List:  [1, 3, 4, 5, 'Joseph', 10.5, 11.5, 'Sunit', 13.5, 'A', 'B', 'C', 'D', 'Marilag', 'Vanessa', 'Benjir', 'Lino', 'Mango', 'Mango']\n",
      "Size:  19\n",
      "Updated List:  [1, 3, 4, 5, 'Joseph', 10.5, 11.5, 'Sunit', 13.5, 'A', 'B', 'C', 'D', 'Marilag', 'Vanessa', 'Benjir', 'Lino', 'Mango']\n",
      "Size:  18\n"
     ]
    }
   ],
   "source": [
    "print(\"Current List: \",l1)\n",
    "print(\"Size: \",len(l1))\n",
    "l1.pop() #remove the last part of the list\n",
    "print(\"Updated List: \",l1)\n",
    "print(\"Size: \",len(l1))"
   ]
  },
  {
   "cell_type": "code",
   "execution_count": 26,
   "metadata": {},
   "outputs": [
    {
     "name": "stdout",
     "output_type": "stream",
     "text": [
      "Current List:  [1, 3, 4, 5, 'Joseph', 10.5, 11.5, 'Sunit', 13.5, 'A', 'B', 'C', 'D', 'Marilag', 'Vanessa', 'Benjir', 'Lino', 'Mango']\n",
      "Size:  18\n",
      "Updated List:  [1, 3, 4, 5, 'Joseph', 11.5, 'Sunit', 13.5, 'A', 'B', 'C', 'D', 'Marilag', 'Vanessa', 'Benjir', 'Lino', 'Mango']\n",
      "Size:  17\n"
     ]
    }
   ],
   "source": [
    "print(\"Current List: \",l1)\n",
    "print(\"Size: \",len(l1))\n",
    "del l1[5] #delete index 5 value\n",
    "print(\"Updated List: \",l1)\n",
    "print(\"Size: \",len(l1))"
   ]
  },
  {
   "cell_type": "code",
   "execution_count": 27,
   "metadata": {},
   "outputs": [
    {
     "name": "stdout",
     "output_type": "stream",
     "text": [
      "Current List:  [1, 3, 4, 5, 'Joseph', 11.5, 'Sunit', 13.5, 'A', 'B', 'C', 'D', 'Marilag', 'Vanessa', 'Benjir', 'Lino', 'Mango']\n",
      "Size:  17\n",
      "Updated List:  []\n",
      "Size:  0\n"
     ]
    }
   ],
   "source": [
    "print(\"Current List: \",l1)\n",
    "print(\"Size: \",len(l1))\n",
    "l1.clear() #emptying the whole list\n",
    "print(\"Updated List: \",l1)\n",
    "print(\"Size: \",len(l1))"
   ]
  },
  {
   "cell_type": "code",
   "execution_count": 28,
   "metadata": {},
   "outputs": [
    {
     "name": "stdout",
     "output_type": "stream",
     "text": [
      "Apple  =  5\n",
      "Mango  =  5\n",
      "Kiwi  =  4\n",
      "Orange  =  6\n"
     ]
    }
   ],
   "source": [
    "#print all the value one by one using for loop\n",
    "\n",
    "l2=[\"Apple\",\"Mango\",\"Kiwi\",\"Orange\"]\n",
    "\n",
    "for i in l2:\n",
    "  print(i, \" = \", len(i))"
   ]
  },
  {
   "attachments": {},
   "cell_type": "markdown",
   "metadata": {},
   "source": [
    "Nested List"
   ]
  },
  {
   "cell_type": "code",
   "execution_count": 29,
   "metadata": {},
   "outputs": [
    {
     "name": "stdout",
     "output_type": "stream",
     "text": [
      "['Mobiles', ['Samsung', 'OnePlus', 'Iphone', [14000, 20000, 40000]], 'Laptop', ['Dell', 'Hp', 'Acer', [25000, 35000, 45000]], 'Clothes', ['Men', 'Women', [50, 100]]]\n"
     ]
    }
   ],
   "source": [
    "Ecommerce = [\n",
    "    \"Mobiles\",[\"Samsung\",\"OnePlus\",\"Iphone\",[14000,20000,40000]],\n",
    "    \"Laptop\",[\"Dell\",\"Hp\",\"Acer\",[25000,35000,45000]],\n",
    "    \"Clothes\",[\"Men\",\"Women\",[50,100]]\n",
    "]\n",
    "print(Ecommerce)"
   ]
  },
  {
   "attachments": {},
   "cell_type": "markdown",
   "metadata": {},
   "source": [
    "from mobile i want print Samsung, price - 20k, 40k\n",
    "from laptop i want print HP, price - 35k\n",
    "from clothes i want print Men and its quantity"
   ]
  },
  {
   "cell_type": "code",
   "execution_count": null,
   "metadata": {},
   "outputs": [],
   "source": [
    "Ecommerce = [\n",
    "    \"Mobiles\",[\"Samsung\",\"OnePlus\",\"Iphone\",[14000,20000,40000]],\n",
    "    \"Laptop\",[\"Dell\",\"Hp\",\"Acer\",[25000,35000,45000]],\n",
    "    \"Clothes\",[\"Men\",\"Women\",[50,100]]\n",
    "]\n",
    "print(Ecommerce)\n",
    "\n",
    "for i in range(1,6,1):\n",
    "  for j in range(i):\n",
    "    print(\"*\",end=\"\")  #end=\"\" for horizontal manner\n",
    "  print()"
   ]
  }
 ],
 "metadata": {
  "kernelspec": {
   "display_name": "Python 3",
   "language": "python",
   "name": "python3"
  },
  "language_info": {
   "codemirror_mode": {
    "name": "ipython",
    "version": 3
   },
   "file_extension": ".py",
   "mimetype": "text/x-python",
   "name": "python",
   "nbconvert_exporter": "python",
   "pygments_lexer": "ipython3",
   "version": "3.11.2"
  },
  "orig_nbformat": 4
 },
 "nbformat": 4,
 "nbformat_minor": 2
}
