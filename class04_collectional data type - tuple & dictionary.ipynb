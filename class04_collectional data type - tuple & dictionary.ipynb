{
 "cells": [
  {
   "attachments": {},
   "cell_type": "markdown",
   "metadata": {},
   "source": [
    "Tuple"
   ]
  },
  {
   "cell_type": "code",
   "execution_count": 5,
   "metadata": {},
   "outputs": [
    {
     "name": "stdout",
     "output_type": "stream",
     "text": [
      "(1, 2, 3, 4, 5, 'Apple', 'Kiwi', 'Orange', 'A', 'B', 'C', 'D', 10.5, 11.5, 12.5)\n"
     ]
    }
   ],
   "source": [
    "t1 = (1,2,3,4,5,\"Apple\",\"Kiwi\",\"Orange\",'A','B','C','D',10.5,11.5,12.5)\n",
    "print(t1)"
   ]
  },
  {
   "cell_type": "code",
   "execution_count": 6,
   "metadata": {},
   "outputs": [
    {
     "name": "stdout",
     "output_type": "stream",
     "text": [
      "Current Tupple:  (1, 2, 3, 4, 5, 'Apple', 'Kiwi', 'Orange', 'A', 'B', 'C', 'D', 10.5, 11.5, 12.5)\n",
      "Updated Tupple:  [1, 2, 3, 4, 5, 'Apple', 'Kiwi', 'Orange', 'A', 'B', 'C', 'D', 10.5, 11.5, 12.5]\n",
      "<class 'list'>\n"
     ]
    }
   ],
   "source": [
    "print(\"Current Tupple: \",t1)\n",
    "\n",
    "l1 = list(t1) #converting tuple into a list\n",
    "print(\"Updated Tupple: \",l1)\n",
    "print(type(l1))"
   ]
  },
  {
   "attachments": {},
   "cell_type": "markdown",
   "metadata": {},
   "source": [
    "Tuple Slicing"
   ]
  },
  {
   "cell_type": "code",
   "execution_count": 10,
   "metadata": {},
   "outputs": [
    {
     "name": "stdout",
     "output_type": "stream",
     "text": [
      "Current Tuple:  [1, 2, 3, 4, 5, 'Apple', 'Kiwi', 'Orange', 'A', 'B', 'C', 'D', 10.5, 11.5, 12.5]\n",
      "3\n"
     ]
    }
   ],
   "source": [
    "#print value after index 1\n",
    "print(\"Current Tuple: \",l1)\n",
    "print(l1[2])"
   ]
  },
  {
   "cell_type": "code",
   "execution_count": 11,
   "metadata": {},
   "outputs": [
    {
     "name": "stdout",
     "output_type": "stream",
     "text": [
      "Current Tuple:  [1, 2, 3, 4, 5, 'Apple', 'Kiwi', 'Orange', 'A', 'B', 'C', 'D', 10.5, 11.5, 12.5]\n",
      "[2, 3, 4, 5, 'Apple', 'Kiwi']\n"
     ]
    }
   ],
   "source": [
    "#print value between index 1 to 6\n",
    "print(\"Current Tuple: \",l1)\n",
    "print(l1[1:7])"
   ]
  },
  {
   "cell_type": "code",
   "execution_count": 12,
   "metadata": {},
   "outputs": [
    {
     "name": "stdout",
     "output_type": "stream",
     "text": [
      "Current Tuple:  [1, 2, 3, 4, 5, 'Apple', 'Kiwi', 'Orange', 'A', 'B', 'C', 'D', 10.5, 11.5, 12.5]\n",
      "[2, 4, 'Apple', 'Orange']\n"
     ]
    }
   ],
   "source": [
    "#print alternate value between 1 to 8\n",
    "print(\"Current Tuple: \",l1)\n",
    "print(l1[1:9:2])"
   ]
  },
  {
   "cell_type": "code",
   "execution_count": 19,
   "metadata": {},
   "outputs": [
    {
     "name": "stdout",
     "output_type": "stream",
     "text": [
      "Current Tuple:  [1, 2, 3, 4, 5, 'Apple', 'Kiwi', 'Orange', 'A', 'B', 'C', 'D', 10.5, 11.5, 12.5]\n",
      "12.5\n"
     ]
    }
   ],
   "source": [
    "#print last value of the tuple\n",
    "print(\"Current Tuple: \",l1)\n",
    "print(l1[-1])"
   ]
  },
  {
   "cell_type": "code",
   "execution_count": 20,
   "metadata": {},
   "outputs": [
    {
     "name": "stdout",
     "output_type": "stream",
     "text": [
      "Current Tuple:  [1, 2, 3, 4, 5, 'Apple', 'Kiwi', 'Orange', 'A', 'B', 'C', 'D', 10.5, 11.5, 12.5]\n",
      "Apple\n"
     ]
    }
   ],
   "source": [
    "#print 6th index value of a tuple\n",
    "print(\"Current Tuple: \",l1)\n",
    "print(l1[5])"
   ]
  },
  {
   "cell_type": "code",
   "execution_count": 3,
   "metadata": {},
   "outputs": [
    {
     "name": "stdout",
     "output_type": "stream",
     "text": [
      "1\n",
      "2\n",
      "3\n",
      "4\n",
      "5\n",
      "Apple\n",
      "Kiwi\n",
      "Orange\n",
      "A\n",
      "B\n",
      "C\n",
      "D\n",
      "10.5\n",
      "11.5\n",
      "12.5\n"
     ]
    }
   ],
   "source": [
    "for i in range(len(t1)): #len function to print tuple\n",
    "  print(t1[i])"
   ]
  },
  {
   "attachments": {},
   "cell_type": "markdown",
   "metadata": {},
   "source": [
    "Dictionary"
   ]
  },
  {
   "cell_type": "code",
   "execution_count": 1,
   "metadata": {},
   "outputs": [
    {
     "name": "stdout",
     "output_type": "stream",
     "text": [
      "{1: 'Apple', 2: 'Orange', 'A': 'B', 'C': 'D', 'Mobile': 'Iphone', 'Num1': 1, 'Num2': 2}\n"
     ]
    }
   ],
   "source": [
    "d1 = {1:\"Apple\", 2:\"Orange\", 'A':'B', 'C':'D', \"Mobile\":\"Iphone\", \"Num1\":1, \"Num2\":2} #dictionary, data is inside the curly bracket, syntax: {key:value}\n",
    "print(d1)"
   ]
  },
  {
   "cell_type": "code",
   "execution_count": 2,
   "metadata": {},
   "outputs": [
    {
     "name": "stdout",
     "output_type": "stream",
     "text": [
      "Current Dictionary:  {1: 'Apple', 2: 'Orange', 'A': 'B', 'C': 'D', 'Mobile': 'Iphone', 'Num1': 1, 'Num2': 2}\n",
      "Print Apple from Dictionary\n",
      "Apple\n",
      "Print Iphone from Dictionary\n",
      "Iphone\n"
     ]
    }
   ],
   "source": [
    "#access items from Dictionary\n",
    "print(\"Current Dictionary: \",d1)\n",
    "\n",
    "print(\"Print Apple from Dictionary\")\n",
    "print(d1[1]) #use the key for indexing\n",
    "\n",
    "print(\"Print Iphone from Dictionary\")\n",
    "print(d1[\"Mobile\"]) #use the key for indexing"
   ]
  },
  {
   "cell_type": "code",
   "execution_count": 3,
   "metadata": {},
   "outputs": [
    {
     "name": "stdout",
     "output_type": "stream",
     "text": [
      "Current Dictionary:  {1: 'Apple', 2: 'Orange', 'A': 'B', 'C': 'D', 'Mobile': 'Iphone', 'Num1': 1, 'Num2': 2}\n",
      "Iphone\n"
     ]
    }
   ],
   "source": [
    "#access value using get(), one other way\n",
    "print(\"Current Dictionary: \",d1)\n",
    "\n",
    "x = d1.get(\"Mobile\")\n",
    "print(x)"
   ]
  },
  {
   "cell_type": "code",
   "execution_count": 4,
   "metadata": {},
   "outputs": [
    {
     "name": "stdout",
     "output_type": "stream",
     "text": [
      "Key List:  [1, 2, 'A', 'C', 'Mobile', 'Num1', 'Num2']\n",
      "Value List:  ['Apple', 'Orange', 'B', 'D', 'Iphone', 1, 2]\n"
     ]
    }
   ],
   "source": [
    "#access key from dictionary\n",
    "k = d1.keys() #get keys\n",
    "v = d1.values() #get values\n",
    "\n",
    "print(\"Key List: \",list(k))\n",
    "print(\"Value List: \",list(v))"
   ]
  },
  {
   "cell_type": "code",
   "execution_count": 5,
   "metadata": {},
   "outputs": [
    {
     "name": "stdout",
     "output_type": "stream",
     "text": [
      "Current Dictionary:  {1: 'Apple', 2: 'Orange', 'A': 'B', 'C': 'D', 'Mobile': 'Iphone', 'Num1': 1, 'Num2': 2}\n",
      "Updated Dictionary:  {1: 'Apple', 2: 'Mango', 'A': 'B', 'C': 'D', 'Mobile': 'Iphone', 'Num1': 1, 'Num2': 2}\n"
     ]
    }
   ],
   "source": [
    "#change items on dictionary\n",
    "print(\"Current Dictionary: \",d1)\n",
    "\n",
    "d1[2] = \"Mango\" #change the value of key 2\n",
    "print(\"Updated Dictionary: \",d1)"
   ]
  },
  {
   "cell_type": "code",
   "execution_count": 6,
   "metadata": {},
   "outputs": [
    {
     "name": "stdout",
     "output_type": "stream",
     "text": [
      "Current Dictionary:  {1: 'Apple', 2: 'Mango', 'A': 'B', 'C': 'D', 'Mobile': 'Iphone', 'Num1': 1, 'Num2': 2}\n",
      "Updated Dictionary:  {1: 'Apple', 2: 'Mango', 'A': 'B', 'C': 'D', 'Mobile': 'Samsung', 'Num1': 1, 'Num2': 2}\n"
     ]
    }
   ],
   "source": [
    "#change item using udpate()\n",
    "print(\"Current Dictionary: \",d1)\n",
    "\n",
    "d1.update({\"Mobile\":\"Samsung\"}) #should include the key and value pair\n",
    "print(\"Updated Dictionary: \",d1)"
   ]
  },
  {
   "cell_type": "code",
   "execution_count": 7,
   "metadata": {},
   "outputs": [
    {
     "name": "stdout",
     "output_type": "stream",
     "text": [
      "Current Dictionary:  {1: 'Apple', 2: 'Mango', 'A': 'B', 'C': 'D', 'Mobile': 'Samsung', 'Num1': 1, 'Num2': 2}\n",
      "Updated Dictionary:  {1: 'Apple', 2: 'Mango', 'A': 'B', 'C': 'D', 'Mobile': 'Samsung', 'Num1': 1, 'Num2': 2, 'color': 'red'}\n"
     ]
    }
   ],
   "source": [
    "#add new value on dictionary\n",
    "print(\"Current Dictionary: \",d1)\n",
    "\n",
    "d1[\"color\"] = \"red\" #add new value at the last part\n",
    "print(\"Updated Dictionary: \",d1)"
   ]
  },
  {
   "cell_type": "code",
   "execution_count": null,
   "metadata": {},
   "outputs": [],
   "source": [
    "#add new key by using update() method\n",
    "#WIP"
   ]
  },
  {
   "cell_type": "code",
   "execution_count": 9,
   "metadata": {},
   "outputs": [
    {
     "name": "stdout",
     "output_type": "stream",
     "text": [
      "Current Dictionary:  {1: 'Apple', 2: 'Mango', 'A': 'B', 'C': 'D', 'Mobile': 'Samsung', 'Num1': 1, 'Num2': 2, 'color': 'red'}\n",
      "Updated Dictionary:  {1: 'Apple', 2: 'Mango', 'A': 'B', 'C': 'D', 'Num1': 1, 'Num2': 2, 'color': 'red'}\n"
     ]
    }
   ],
   "source": [
    "#remove items\n",
    "print(\"Current Dictionary: \",d1)\n",
    "\n",
    "d1.pop(\"Mobile\") #remove a key and its value\n",
    "print(\"Updated Dictionary: \",d1)"
   ]
  },
  {
   "cell_type": "code",
   "execution_count": 10,
   "metadata": {},
   "outputs": [
    {
     "name": "stdout",
     "output_type": "stream",
     "text": [
      "Current Dictionary:  {1: 'Apple', 2: 'Mango', 'A': 'B', 'C': 'D', 'Num1': 1, 'Num2': 2, 'color': 'red'}\n",
      "Updated Dictionary:  {1: 'Apple', 2: 'Mango', 'A': 'B', 'C': 'D', 'Num1': 1, 'Num2': 2}\n"
     ]
    }
   ],
   "source": [
    "#remove items\n",
    "print(\"Current Dictionary: \",d1)\n",
    "\n",
    "d1.popitem() #remove a key and its value at the last part\n",
    "print(\"Updated Dictionary: \",d1)"
   ]
  },
  {
   "cell_type": "code",
   "execution_count": 11,
   "metadata": {},
   "outputs": [
    {
     "name": "stdout",
     "output_type": "stream",
     "text": [
      "Current Dictionary:  {1: 'Apple', 2: 'Mango', 'A': 'B', 'C': 'D', 'Num1': 1, 'Num2': 2}\n",
      "Updated Dictionary:  {1: 'Apple', 2: 'Mango', 'A': 'B', 'C': 'D', 'Num2': 2}\n"
     ]
    }
   ],
   "source": [
    "#delete item in dictionary\n",
    "print(\"Current Dictionary: \",d1)\n",
    "\n",
    "del d1[\"Num1\"] #delete by indicating the key\n",
    "print(\"Updated Dictionary: \",d1)"
   ]
  },
  {
   "cell_type": "code",
   "execution_count": null,
   "metadata": {},
   "outputs": [],
   "source": [
    "#clear dictionary\n",
    "print(\"Current Dictionary: \",d1)\n",
    "\n",
    "d1.clear() #emptying the whole dictionary\n",
    "print(\"Updated Dictionary: \",d1)"
   ]
  },
  {
   "cell_type": "code",
   "execution_count": 12,
   "metadata": {},
   "outputs": [
    {
     "name": "stdout",
     "output_type": "stream",
     "text": [
      "Current Dictionary:  {1: 'Apple', 2: 'Mango', 'A': 'B', 'C': 'D', 'Num2': 2}\n",
      "1 Apple\n",
      "2 Mango\n",
      "A B\n",
      "C D\n",
      "Num2 2\n"
     ]
    }
   ],
   "source": [
    "#dictionary using for loop\n",
    "print(\"Current Dictionary: \",d1)\n",
    "for x,y in d1.items():\n",
    "  print(x,y)"
   ]
  },
  {
   "cell_type": "code",
   "execution_count": 20,
   "metadata": {},
   "outputs": [
    {
     "name": "stdout",
     "output_type": "stream",
     "text": [
      "Current Dictionary:  {1: 'Apple', 2: 'Mango', 'A': 'B', 'C': 'D', 'Num2': 2}\n",
      "1\n",
      "2\n",
      "A\n",
      "C\n",
      "Num2\n"
     ]
    }
   ],
   "source": [
    "#print only keys using for loop\n",
    "k = d1.keys() #get keys\n",
    "\n",
    "print(\"Current Dictionary: \",d1)\n",
    "for k in d1.keys():\n",
    "  print(k)"
   ]
  },
  {
   "cell_type": "code",
   "execution_count": 22,
   "metadata": {},
   "outputs": [
    {
     "name": "stdout",
     "output_type": "stream",
     "text": [
      "Current Dictionary:  {1: 'Apple', 2: 'Mango', 'A': 'B', 'C': 'D', 'Num2': 2}\n",
      "Apple\n",
      "Mango\n",
      "B\n",
      "D\n",
      "2\n"
     ]
    }
   ],
   "source": [
    "#print only values using for loop\n",
    "v = d1.values() #get values\n",
    "\n",
    "print(\"Current Dictionary: \",d1)\n",
    "for v in d1.values():\n",
    "  print(v)"
   ]
  },
  {
   "cell_type": "code",
   "execution_count": 25,
   "metadata": {},
   "outputs": [
    {
     "name": "stdout",
     "output_type": "stream",
     "text": [
      "{'Fruits': ['Apple', 'Mango', 'Orange'], 'Mobiles': ['Samsung', 'Iphone', 'Xiaomi']}\n"
     ]
    }
   ],
   "source": [
    "#storing multiple values on a single key\n",
    "d2 = {\"Fruits\":[\"Apple\",\"Mango\",\"Orange\"],\n",
    "      \"Mobiles\":[\"Samsung\",\"Iphone\",\"Xiaomi\"]} #inside a square bracket {key:[value,value..]}\n",
    "\n",
    "print(d2)"
   ]
  },
  {
   "cell_type": "code",
   "execution_count": 28,
   "metadata": {},
   "outputs": [
    {
     "name": "stdout",
     "output_type": "stream",
     "text": [
      "Current Dictionary:  {'Fruits': ['Apple', 'Mango', 'Orange'], 'Mobiles': ['Samsung', 'Iphone', 'Xiaomi']}\n",
      "Orange\n"
     ]
    }
   ],
   "source": [
    " #print specific index\n",
    " print(\"Current Dictionary: \",d2)\n",
    " \n",
    " print(d2[\"Fruits\"][2]) #indexing"
   ]
  },
  {
   "cell_type": "code",
   "execution_count": 35,
   "metadata": {},
   "outputs": [
    {
     "name": "stdout",
     "output_type": "stream",
     "text": [
      "Current Dictionary:  {'Fruits': ['Apple', 'Mango', 'Orange'], 'Mobiles': ['Samsung', 'Iphone', 'Xiaomi']}\n",
      "Iphone\n"
     ]
    }
   ],
   "source": [
    " #print specific index\n",
    " print(\"Current Dictionary: \",d2)\n",
    " \n",
    " print(d2[\"Mobiles\"][1]) #indexing"
   ]
  },
  {
   "cell_type": "code",
   "execution_count": 36,
   "metadata": {},
   "outputs": [
    {
     "name": "stdout",
     "output_type": "stream",
     "text": [
      "Current Dictionary:  {'Fruits': ['Apple', 'Mango', 'Orange'], 'Mobiles': ['Samsung', 'Iphone', 'Xiaomi']}\n",
      "['Samsung', 'Iphone']\n"
     ]
    }
   ],
   "source": [
    " #print specific index\n",
    " print(\"Current Dictionary: \",d2)\n",
    " \n",
    " print(d2[\"Mobiles\"][0:2]) #indexing 2 values via range"
   ]
  },
  {
   "cell_type": "code",
   "execution_count": 1,
   "metadata": {},
   "outputs": [
    {
     "name": "stdout",
     "output_type": "stream",
     "text": [
      "{'Mobile': {'Samsung': 40000, 'Iphone': 58000, 'Xiaomi': 45000}, 'Men': {'Footware': ['Shoes', 'Slipper', 'Crocs'], 'Clothes': ['Tshirts', 'Shirts'], 'Watches': ['Watch1', 'Watch2', 'Watch3']}, 'Women': {'Footware': ['Shoes', 'Slipper', 'Crocs'], 'Clothes': ['Tshirts', 'Shirts'], 'Jewelry': ['J1', 'J2', 'J3', [70000, 80000, 90000]]}, 'Laptop': ['HP', 'Dell', 'Acer']}\n"
     ]
    }
   ],
   "source": [
    "#dictionary should be Ecommerce\n",
    "#category - mobile, laptops; men - footwares, clothes, watch; women - footwares, clothes, jewelry\n",
    "#with their prices\n",
    "\n",
    "Ecommerce = {\n",
    "  \"Mobile\":{\"Samsung\":40000, \"Iphone\":58000, \"Xiaomi\":45000},\n",
    "  \"Men\":{\n",
    "    \"Footware\": [\"Shoes\",\"Slipper\",\"Crocs\"],\n",
    "    \"Clothes\": [\"Tshirts\", \"Shirts\"],\n",
    "    \"Watches\": [\"Watch1\",\"Watch2\",\"Watch3\"]\n",
    "  },\n",
    "    \"Women\":{\n",
    "    \"Footware\": [\"Shoes\",\"Slipper\",\"Crocs\"],\n",
    "    \"Clothes\": [\"Tshirts\", \"Shirts\"],\n",
    "    \"Jewelry\": [\"J1\",\"J2\",\"J3\",[70000,80000,90000]]\n",
    "  },\n",
    "    \"Laptop\": [\"HP\",\"Dell\",\"Acer\"]\n",
    "}\n",
    "print(Ecommerce)"
   ]
  },
  {
   "cell_type": "code",
   "execution_count": 10,
   "metadata": {},
   "outputs": [
    {
     "name": "stdout",
     "output_type": "stream",
     "text": [
      "Mobiles:  {'Samsung': 40000, 'Iphone': 58000, 'Xiaomi': 45000}\n",
      "Men's Footware:  Slipper\n",
      "Men's Clothes:  Shirts\n",
      "Men's Watches:  Watch2\n",
      "Women's Watches:  Crocs\n",
      "Women's Clothes:  Tshirts\n",
      "Women's Jewelry:  J1\n",
      "Women's Jewelry:  [[70000, 80000, 90000]]\n",
      "Women's Jewelry:  [70000, 80000, 90000]\n",
      "Laptop:  Dell\n"
     ]
    }
   ],
   "source": [
    "#Mobile -- all the keys and values\n",
    "print(\"Mobiles: \",Ecommerce[\"Mobile\"])\n",
    "\n",
    "#Men(footware) -- slipper\n",
    "print(\"Men's Footware: \",Ecommerce[\"Men\"][\"Footware\"][1])\n",
    "\n",
    "#Men(Clothes) -- shirt\n",
    "print(\"Men's Clothes: \",Ecommerce[\"Men\"][\"Clothes\"][1])\n",
    "\n",
    "#Men(Watches) -- Watch2\n",
    "print(\"Men's Watches: \",Ecommerce[\"Men\"][\"Watches\"][1])\n",
    "\n",
    "#Women(footware) -- Crocs\n",
    "print(\"Women's Watches: \",Ecommerce[\"Women\"][\"Footware\"][2])\n",
    "\n",
    "#Women(Clothes) -- tshirt\n",
    "print(\"Women's Clothes: \",Ecommerce[\"Women\"][\"Clothes\"][0])\n",
    "\n",
    "#Jewelry -- j1, all price\n",
    "print(\"Women's Jewelry: \",Ecommerce[\"Women\"][\"Jewelry\"][0])\n",
    "print(\"Women's Jewelry: \",Ecommerce[\"Women\"][\"Jewelry\"][3:6])\n",
    "print(\"Women's Jewelry: \",Ecommerce[\"Women\"][\"Jewelry\"][3][0:3]) #ben answer\n",
    "\n",
    "#laptop -- Dell\n",
    "print(\"Laptop: \",Ecommerce[\"Laptop\"][1])"
   ]
  },
  {
   "cell_type": "code",
   "execution_count": 9,
   "metadata": {},
   "outputs": [
    {
     "name": "stdout",
     "output_type": "stream",
     "text": [
      "    Samsung : 40000\n",
      "    Iphone : 58000\n",
      "    Xiaomi : 45000\n"
     ]
    }
   ],
   "source": [
    "#printing all mobile with its prices\n",
    "for x, y in Ecommerce[\"Mobile\"].items():\n",
    "    print(\"   \",x,\":\",y)"
   ]
  }
 ],
 "metadata": {
  "kernelspec": {
   "display_name": "Python 3",
   "language": "python",
   "name": "python3"
  },
  "language_info": {
   "codemirror_mode": {
    "name": "ipython",
    "version": 3
   },
   "file_extension": ".py",
   "mimetype": "text/x-python",
   "name": "python",
   "nbconvert_exporter": "python",
   "pygments_lexer": "ipython3",
   "version": "3.11.2"
  },
  "orig_nbformat": 4
 },
 "nbformat": 4,
 "nbformat_minor": 2
}
